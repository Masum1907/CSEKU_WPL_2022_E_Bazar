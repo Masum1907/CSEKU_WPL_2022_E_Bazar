{
  "nbformat": 4,
  "nbformat_minor": 0,
  "metadata": {
    "colab": {
      "provenance": [],
      "mount_file_id": "1uVxtoVI7TCusOKhQDjwo5zRzuJGp8KMw",
      "authorship_tag": "ABX9TyP1x1z3ApwG5JiN8i8wpLiM",
      "include_colab_link": true
    },
    "kernelspec": {
      "name": "python3",
      "display_name": "Python 3"
    },
    "language_info": {
      "name": "python"
    },
    "accelerator": "GPU",
    "gpuClass": "standard"
  },
  "cells": [
    {
      "cell_type": "markdown",
      "metadata": {
        "id": "view-in-github",
        "colab_type": "text"
      },
      "source": [
        "<a href=\"https://colab.research.google.com/github/masum-rayhan-khulna-university/CSEKU_WPL_2022_E_Bazar/blob/master/tumor_detection.ipynb\" target=\"_parent\"><img src=\"https://colab.research.google.com/assets/colab-badge.svg\" alt=\"Open In Colab\"/></a>"
      ]
    },
    {
      "cell_type": "markdown",
      "source": [
        "load data\n"
      ],
      "metadata": {
        "id": "uw82UfZRucmo"
      }
    },
    {
      "cell_type": "code",
      "source": [
        "import numpy as np\n",
        "import pandas as pd\n",
        "import os\n",
        "import matplotlib.pyplot as plt\n",
        "import math\n",
        "import shutil\n",
        "import glob\n",
        "\n",
        "\n"
      ],
      "metadata": {
        "id": "hbAXvU0ruhFF"
      },
      "execution_count": 1,
      "outputs": []
    },
    {
      "cell_type": "code",
      "source": [
        "from google.colab import drive\n",
        "drive.mount('/content/drive')"
      ],
      "metadata": {
        "id": "1UC9u2P8tgG2"
      },
      "execution_count": null,
      "outputs": []
    },
    {
      "cell_type": "code",
      "source": [
        "Root_dir=\"/content/drive/MyDrive/thesis2023/brain_tumr_detc\"\n",
        "num_of_images={}\n",
        "for dir in os.listdir(Root_dir):\n",
        "  num_of_images[dir]=os.listdir(os.path.join(Root_dir,dir))"
      ],
      "metadata": {
        "id": "jNH5rm0duwbT"
      },
      "execution_count": 3,
      "outputs": []
    },
    {
      "cell_type": "code",
      "source": [
        "num_of_images.items()"
      ],
      "metadata": {
        "id": "XOvjNHMbwLQy"
      },
      "execution_count": null,
      "outputs": []
    },
    {
      "cell_type": "code",
      "source": [
        "Root_dir=\"/content/drive/MyDrive/thesis2023/brain_tumr_detc\"\n",
        "num_of_images={}\n",
        "for dir in os.listdir(Root_dir):\n",
        "  num_of_images[dir]=len(os.listdir(os.path.join(Root_dir,dir)))\n",
        "num_of_images.items()"
      ],
      "metadata": {
        "colab": {
          "base_uri": "https://localhost:8080/"
        },
        "id": "nSq-u7qFwQ53",
        "outputId": "932d37e9-5416-416f-fc69-3a98579dc258"
      },
      "execution_count": 5,
      "outputs": [
        {
          "output_type": "execute_result",
          "data": {
            "text/plain": [
              "dict_items([('no', 308), ('yes', 291)])"
            ]
          },
          "metadata": {},
          "execution_count": 5
        }
      ]
    },
    {
      "cell_type": "code",
      "source": [
        "def dataFolder(p,split):\n",
        "  if not os.path.exists(\"./\"+p):\n",
        "   os.mkdir(\"./\"+p)\n",
        "\n",
        "   for dir in os.listdir(Root_dir):\n",
        "    os.makedirs(\"./\"+p+\"/\"+dir)\n",
        "    num_images = len(os.listdir(os.path.join(Root_dir, dir)))\n",
        "    subset_size = max(math.floor(split*num_images)-5, 1)\n",
        "    for img in np.random.choice(a=os.listdir(os.path.join(Root_dir, dir)),\n",
        "                                size=subset_size,\n",
        "                                replace=False):\n",
        "      O=os.path.join(Root_dir,dir,img)\n",
        "      D=os.path.join('./'+p,dir)\n",
        "      shutil.copy(O, D)\n",
        "      os.remove(O)\n",
        "      \n",
        "  else:\n",
        "    print(f\"{p} folder exist\")  "
      ],
      "metadata": {
        "id": "6feXktGtyGVl"
      },
      "execution_count": 6,
      "outputs": []
    },
    {
      "cell_type": "code",
      "source": [
        "dataFolder(\"train\",0.8)\n"
      ],
      "metadata": {
        "colab": {
          "base_uri": "https://localhost:8080/"
        },
        "id": "ZguKQt9P0IiS",
        "outputId": "5fc4f9c8-b860-407f-f47a-141c7d85fe7f"
      },
      "execution_count": 7,
      "outputs": [
        {
          "output_type": "stream",
          "name": "stdout",
          "text": [
            "train folder exist\n"
          ]
        }
      ]
    },
    {
      "cell_type": "code",
      "source": [
        "dataFolder(\"val\",0.5)"
      ],
      "metadata": {
        "colab": {
          "base_uri": "https://localhost:8080/"
        },
        "id": "d4Mebgqi3ksf",
        "outputId": "48c5d46e-c6ae-4530-b915-d95974163528"
      },
      "execution_count": 8,
      "outputs": [
        {
          "output_type": "stream",
          "name": "stdout",
          "text": [
            "val folder exist\n"
          ]
        }
      ]
    },
    {
      "cell_type": "code",
      "source": [
        "dataFolder(\"test\",0.5)"
      ],
      "metadata": {
        "colab": {
          "base_uri": "https://localhost:8080/"
        },
        "id": "OCWTJpQN3uUB",
        "outputId": "fef18dea-d23d-43fc-a5ee-972772badb1f"
      },
      "execution_count": 9,
      "outputs": [
        {
          "output_type": "stream",
          "name": "stdout",
          "text": [
            "test folder exist\n"
          ]
        }
      ]
    },
    {
      "cell_type": "code",
      "source": [
        "num_of_images={}\n",
        "for dir in os.listdir(Root_dir):\n",
        "  num_of_images[dir]=len(os.listdir(os.path.join(Root_dir,dir)))\n",
        "num_of_images.items()"
      ],
      "metadata": {
        "colab": {
          "base_uri": "https://localhost:8080/"
        },
        "id": "Cy9jICC15AtL",
        "outputId": "a646f170-e114-4de7-90a3-05a4a22966f5"
      },
      "execution_count": 10,
      "outputs": [
        {
          "output_type": "execute_result",
          "data": {
            "text/plain": [
              "dict_items([('no', 308), ('yes', 291)])"
            ]
          },
          "metadata": {},
          "execution_count": 10
        }
      ]
    },
    {
      "cell_type": "code",
      "source": [
        "from keras.layers import Conv2D,MaxPool2D,Dropout,Flatten,Dense,BatchNormalization,GlobalAveragePooling2D\n",
        "from keras.models import Sequential\n",
        "from keras.preprocessing.image import ImageDataGenerator\n",
        "import keras"
      ],
      "metadata": {
        "id": "De6s2WJ15mUb"
      },
      "execution_count": 11,
      "outputs": []
    },
    {
      "cell_type": "code",
      "source": [
        "model=Sequential()\n",
        "model.add(Conv2D(filters=16,kernel_size=(3,3),activation=\"relu\",input_shape=(224,224,3)))\n",
        "\n",
        "model.add(Conv2D(filters=36,kernel_size=(3,3),activation=\"relu\"))\n",
        "model.add(MaxPool2D(pool_size=(2,2)))\n",
        "\n",
        "model.add(Conv2D(filters=64,kernel_size=(3,3),activation=\"relu\"))\n",
        "model.add(MaxPool2D(pool_size=(2,2)))\n",
        "\n",
        "model.add(Conv2D(filters=128,kernel_size=(3,3),activation=\"relu\"))\n",
        "model.add(MaxPool2D(pool_size=(2,2)))\n",
        "\n",
        "model.add(Dropout(rate=0.25))\n",
        "\n",
        "model.add(Flatten())\n",
        "model.add(Dense(units=64,activation=\"relu\"))\n",
        "model.add(Dropout(rate=0.25))\n",
        "model.add(Dense(units=1,activation=\"sigmoid\"))\n",
        "model.summary()"
      ],
      "metadata": {
        "colab": {
          "base_uri": "https://localhost:8080/"
        },
        "id": "k9iBYIhI641q",
        "outputId": "c3a94de7-b717-4167-ae0b-e8226444ab79"
      },
      "execution_count": 12,
      "outputs": [
        {
          "output_type": "stream",
          "name": "stdout",
          "text": [
            "Model: \"sequential\"\n",
            "_________________________________________________________________\n",
            " Layer (type)                Output Shape              Param #   \n",
            "=================================================================\n",
            " conv2d (Conv2D)             (None, 222, 222, 16)      448       \n",
            "                                                                 \n",
            " conv2d_1 (Conv2D)           (None, 220, 220, 36)      5220      \n",
            "                                                                 \n",
            " max_pooling2d (MaxPooling2D  (None, 110, 110, 36)     0         \n",
            " )                                                               \n",
            "                                                                 \n",
            " conv2d_2 (Conv2D)           (None, 108, 108, 64)      20800     \n",
            "                                                                 \n",
            " max_pooling2d_1 (MaxPooling  (None, 54, 54, 64)       0         \n",
            " 2D)                                                             \n",
            "                                                                 \n",
            " conv2d_3 (Conv2D)           (None, 52, 52, 128)       73856     \n",
            "                                                                 \n",
            " max_pooling2d_2 (MaxPooling  (None, 26, 26, 128)      0         \n",
            " 2D)                                                             \n",
            "                                                                 \n",
            " dropout (Dropout)           (None, 26, 26, 128)       0         \n",
            "                                                                 \n",
            " flatten (Flatten)           (None, 86528)             0         \n",
            "                                                                 \n",
            " dense (Dense)               (None, 64)                5537856   \n",
            "                                                                 \n",
            " dropout_1 (Dropout)         (None, 64)                0         \n",
            "                                                                 \n",
            " dense_1 (Dense)             (None, 1)                 65        \n",
            "                                                                 \n",
            "=================================================================\n",
            "Total params: 5,638,245\n",
            "Trainable params: 5,638,245\n",
            "Non-trainable params: 0\n",
            "_________________________________________________________________\n"
          ]
        }
      ]
    },
    {
      "cell_type": "code",
      "source": [
        "model.compile(loss=keras.losses.binary_crossentropy,\n",
        "              optimizer='adam',\n",
        "              metrics=['accuracy'])\n",
        "\n"
      ],
      "metadata": {
        "id": "Ec9LjgF2_TCe"
      },
      "execution_count": 13,
      "outputs": []
    },
    {
      "cell_type": "code",
      "source": [
        "def preprocessingImages1(path):\n",
        "  \"\"\"\n",
        "  input:path\n",
        "  output: preprocessed images\n",
        "  \"\"\"\n",
        "\n",
        "  image_data=ImageDataGenerator(zoom_range=0.2,shear_range=0.2,rescale=1/255,horizontal_flip=True)\n",
        "  image=image_data.flow_from_directory(directory=path,target_size=(224,224),batch_size=32,class_mode='binary')\n",
        "\n",
        "  return image"
      ],
      "metadata": {
        "id": "N01ENo6s_3FB"
      },
      "execution_count": 14,
      "outputs": []
    },
    {
      "cell_type": "code",
      "source": [
        "path=\"/content/train\"\n",
        "train_data=preprocessingImages1(path)"
      ],
      "metadata": {
        "colab": {
          "base_uri": "https://localhost:8080/"
        },
        "id": "vVVtOOrrBlVP",
        "outputId": "6a6c79b9-eea9-415b-8b63-e504edd0da11"
      },
      "execution_count": 15,
      "outputs": [
        {
          "output_type": "stream",
          "name": "stdout",
          "text": [
            "Found 54 images belonging to 2 classes.\n"
          ]
        }
      ]
    },
    {
      "cell_type": "code",
      "source": [
        "def preprocessingImages2(path):\n",
        "  \"\"\"\n",
        "  input:path\n",
        "  output: preprocessed images\n",
        "  \"\"\"\n",
        "\n",
        "  image_data=ImageDataGenerator(rescale=1/255,horizontal_flip=True)\n",
        "  image=image_data.flow_from_directory(directory=path,target_size=(224,224),batch_size=32,class_mode='binary')\n",
        "\n",
        "  return image"
      ],
      "metadata": {
        "id": "fhWxjAR3E5Ln"
      },
      "execution_count": 16,
      "outputs": []
    },
    {
      "cell_type": "code",
      "source": [
        "path=\"/content/test\"\n",
        "test_data=preprocessingImages2(path)"
      ],
      "metadata": {
        "colab": {
          "base_uri": "https://localhost:8080/"
        },
        "id": "rWDjy3zuFJJd",
        "outputId": "a6fd80db-0949-4d37-afbf-036fd56d81c6"
      },
      "execution_count": 17,
      "outputs": [
        {
          "output_type": "stream",
          "name": "stdout",
          "text": [
            "Found 2 images belonging to 2 classes.\n"
          ]
        }
      ]
    },
    {
      "cell_type": "code",
      "source": [
        "path=\"/content/val\"\n",
        "val_data=preprocessingImages2(path)"
      ],
      "metadata": {
        "colab": {
          "base_uri": "https://localhost:8080/"
        },
        "id": "kyBzhKd5F70J",
        "outputId": "d3a09de5-698c-43ab-8e60-1c9efa692502"
      },
      "execution_count": 18,
      "outputs": [
        {
          "output_type": "stream",
          "name": "stdout",
          "text": [
            "Found 3 images belonging to 2 classes.\n"
          ]
        }
      ]
    },
    {
      "cell_type": "code",
      "source": [
        "from keras.callbacks import ModelCheckpoint,EarlyStopping\n",
        "\n",
        "es=EarlyStopping(monitor=\"val_accuracy\",min_delta=0.01,patience=3,verbose=1,mode='auto')\n",
        "mc=ModelCheckpoint(monitor=\"val_accuracy\",filepath=\"./bestmodel22.h5\",verbose=1,save_best_only=True,mode='auto')\n",
        "\n",
        "cd=[es,mc]\n"
      ],
      "metadata": {
        "id": "T9BpFPpnIMM1"
      },
      "execution_count": 19,
      "outputs": []
    },
    {
      "cell_type": "code",
      "source": [
        "history = model.fit_generator(\n",
        "    generator=train_data,\n",
        "    steps_per_epoch=8,\n",
        "    \n",
        "    epochs=20,\n",
        "    verbose=1,\n",
        "    validation_data=val_data,\n",
        "    validation_steps=16,\n",
        "    callbacks=cd\n",
        ")\n",
        "\n",
        "history_dict = history.history\n",
        "history_dict.keys()"
      ],
      "metadata": {
        "colab": {
          "base_uri": "https://localhost:8080/"
        },
        "id": "Vu3htHbl06Wv",
        "outputId": "ed7992ed-d6e4-4452-e869-43b68bc9ebcf"
      },
      "execution_count": 25,
      "outputs": [
        {
          "output_type": "stream",
          "name": "stderr",
          "text": [
            "<ipython-input-25-a5305965845a>:1: UserWarning: `Model.fit_generator` is deprecated and will be removed in a future version. Please use `Model.fit`, which supports generators.\n",
            "  history = model.fit_generator(\n"
          ]
        },
        {
          "output_type": "stream",
          "name": "stdout",
          "text": [
            "Epoch 1/20\n",
            "2/8 [======>.......................] - ETA: 8s - loss: 0.5635 - accuracy: 0.7037"
          ]
        },
        {
          "output_type": "stream",
          "name": "stderr",
          "text": [
            "WARNING:tensorflow:Your input ran out of data; interrupting training. Make sure that your dataset or generator can generate at least `steps_per_epoch * epochs` batches (in this case, 160 batches). You may need to use the repeat() function when building your dataset.\n",
            "WARNING:tensorflow:Your input ran out of data; interrupting training. Make sure that your dataset or generator can generate at least `steps_per_epoch * epochs` batches (in this case, 16 batches). You may need to use the repeat() function when building your dataset.\n"
          ]
        },
        {
          "output_type": "stream",
          "name": "stdout",
          "text": [
            "\n",
            "Epoch 1: val_accuracy did not improve from 1.00000\n",
            "8/8 [==============================] - 2s 221ms/step - loss: 0.5635 - accuracy: 0.7037 - val_loss: 0.4007 - val_accuracy: 1.0000\n"
          ]
        },
        {
          "output_type": "execute_result",
          "data": {
            "text/plain": [
              "dict_keys(['loss', 'accuracy', 'val_loss', 'val_accuracy'])"
            ]
          },
          "metadata": {},
          "execution_count": 25
        }
      ]
    },
    {
      "cell_type": "code",
      "source": [
        "import matplotlib.pyplot as plt\n",
        "plt.plot(history_dict['accuracy'])\n",
        "plt.plot(history_dict['val_accuracy'],c=\"red\")\n",
        "plt.title(\"acc vs val_acc\")\n",
        "plt.show()"
      ],
      "metadata": {
        "colab": {
          "base_uri": "https://localhost:8080/",
          "height": 452
        },
        "id": "ZkmyD4MsN8h4",
        "outputId": "52f47038-df1d-4420-f734-e50ae4db131b"
      },
      "execution_count": 26,
      "outputs": [
        {
          "output_type": "display_data",
          "data": {
            "text/plain": [
              "<Figure size 640x480 with 1 Axes>"
            ],
            "image/png": "[encoded data removed]"
          },
          "metadata": {}
        }
      ]
    }
  ]
}